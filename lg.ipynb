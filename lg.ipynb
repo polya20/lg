{
 "cells": [
  {
   "cell_type": "code",
   "execution_count": 6,
   "metadata": {
    "collapsed": false
   },
   "outputs": [],
   "source": [
    "# import the goodies\n",
    "import numpy as np\n",
    "import pandas as pd\n",
    "import os\n",
    "import csv\n",
    "import datetime\n",
    "from pyspark.sql.window import Window as W\n",
    "from pyspark.sql import functions as F\n",
    "from pyspark.sql import functions as F\n",
    "from pyspark.ml import Pipeline\n",
    "from pyspark.ml.classification import RandomForestClassifier,RandomForestClassificationModel\n",
    "\n",
    "from pyspark.ml.feature import StringIndexer, VectorAssembler\n",
    "from pyspark.ml.feature import NGram\n",
    "import findspark\n",
    "from pyspark.sql import SparkSession\n",
    "from pyspark.sql.functions import expr\n",
    "\n"
   ]
  },
  {
   "cell_type": "code",
   "execution_count": 8,
   "metadata": {
    "collapsed": true
   },
   "outputs": [],
   "source": [
    "findspark.init('/home/polya/Downloads/spark-2.2.0-bin-hadoop2.7')\n",
    "s =  SparkSession.builder.getOrCreate()"
   ]
  },
  {
   "cell_type": "code",
   "execution_count": 9,
   "metadata": {
    "collapsed": false
   },
   "outputs": [],
   "source": [
    "sessionWindow = W.partitionBy(F.col('household_id')).orderBy(F.col('session_start').asc())"
   ]
  },
  {
   "cell_type": "code",
   "execution_count": 10,
   "metadata": {
    "collapsed": false
   },
   "outputs": [],
   "source": [
    "sessions = (s.read.format(\"com.databricks.spark.csv\").option(\"inferschema\",\"true\").option(\"header\",\"true\").option(\"delimiter\", \"\\t\")\n",
    "    .load('/home/polya/Downloads/code/kaggle/libertyglobal/data/viewership_extract.csv')\n",
    "    #.filter(\"dob != '1900-01-01 00:00:00'\")\n",
    "    .withColumn('day_of_month', F.dayofmonth('session_start'))\n",
    "    .withColumn('day_of_week',  F.date_format('session_start', 'EEEE'))\n",
    "    .withColumn('hour', F.hour('session_start'))\n",
    "    .withColumn('minute', F.minute('session_start'))\n",
    "    .withColumn('session_duration',F.unix_timestamp('session_end') - F.unix_timestamp('session_start'))\n",
    "    .withColumn('overlapped',F.when((F.unix_timestamp('session_start') <=  F.unix_timestamp('original_broadcast_start')) & (F.unix_timestamp('session_end') >=  F.unix_timestamp('original_broadcast_start')),1)\n",
    "            .otherwise(0))\n",
    "    .withColumn('age', F.year('session_start') - F.year('dob'))\n",
    "    .withColumn('age_band', F.when(F.col('age') < 25, 'less_than_25').when(((F.col('age') >= 25) & (F.col('age') < 35)),'25to34')\n",
    "                .when(((F.col('age') >= 35) & (F.col('age') < 45)),'35to44')\n",
    "                .when(((F.col('age') >= 45) & (F.col('age') < 55)),'45to54')\n",
    "                .when(((F.col('age') >= 55) & (F.col('age') < 65)),'55to64')\n",
    "                .otherwise('greater_than_65') )        \n",
    "            \n",
    "    .withColumn('hit_nr',F.row_number().over(sessionWindow)))      \n",
    "           "
   ]
  },
  {
   "cell_type": "code",
   "execution_count": 11,
   "metadata": {
    "collapsed": false
   },
   "outputs": [
    {
     "data": {
      "text/plain": [
       "3863142"
      ]
     },
     "execution_count": 11,
     "metadata": {},
     "output_type": "execute_result"
    }
   ],
   "source": [
    "sessions.count()"
   ]
  },
  {
   "cell_type": "code",
   "execution_count": 13,
   "metadata": {
    "collapsed": false
   },
   "outputs": [],
   "source": [
    "sessions_grouping =  sessions.groupBy(['household_id'])\\\n",
    "                    .agg(F.max('hit_nr').alias('max_hit_nr'),\n",
    "                    F.round(F.avg('session_duration'),1).alias('avg_session_duration'),\n",
    "                    F.max('session_duration').alias('max_session_duration'),\n",
    "                    F.min('session_duration').alias('min_session_duration'),\n",
    "                    F.round(F.stddev('session_duration'),2).alias('sd_session_duration'),\n",
    "                    F.round(F.skewness('session_duration'),2).alias('skewnews_ssession_duration'),\n",
    "                    F.sum('session_duration').alias('sum_session_duration'),\n",
    "                    F.sum('overlapped').alias('sum_overlaps'),\n",
    "                    F.round(F.avg('overlapped'),2).alias('avg_overlaps'),\n",
    "                    F.round(F.avg('playback_speed'),2).alias('avg_playback_speed'),\n",
    "                    F.first('age_band').alias('age_band'),\n",
    "                    F.first('gender').alias('gender')     \n",
    "                    )\n",
    "\n",
    "\n",
    "\n",
    "\n"
   ]
  },
  {
   "cell_type": "code",
   "execution_count": 14,
   "metadata": {
    "collapsed": false
   },
   "outputs": [
    {
     "name": "stdout",
     "output_type": "stream",
     "text": [
      "+------------+----------+--------------------+--------------------+--------------------+-------------------+--------------------------+--------------------+------------+------------+------------------+---------------+--------------+\n",
      "|household_id|max_hit_nr|avg_session_duration|max_session_duration|min_session_duration|sd_session_duration|skewnews_ssession_duration|sum_session_duration|sum_overlaps|avg_overlaps|avg_playback_speed|       age_band|        gender|\n",
      "+------------+----------+--------------------+--------------------+--------------------+-------------------+--------------------------+--------------------+------------+------------+------------------+---------------+--------------+\n",
      "|   432214580|        51|               914.9|                3900|                   0|            1301.22|                      1.19|               46659|          46|         0.9|            980.39|greater_than_65|Please Specify|\n",
      "|   432215859|       644|               863.0|                9593|                   0|            1396.14|                      2.56|              555748|         643|         1.0|            1000.0|greater_than_65|Please Specify|\n",
      "|   432216992|      2084|               374.6|               12783|                   0|            1085.32|                      6.68|              780651|         202|         0.1|            912.67|greater_than_65|        Female|\n",
      "|   432217982|      1308|               607.8|                8160|                   0|            1083.28|                      3.02|              794987|        1086|        0.83|            1857.8|greater_than_65|Please Specify|\n",
      "|   432218817|      1783|               512.2|               12782|                   0|             992.84|                      4.63|              913189|         911|        0.51|           2659.84|greater_than_65|        Female|\n",
      "|   432219050|        17|              1269.5|                4228|                   0|            1637.48|                      0.73|               21581|          17|         1.0|            1000.0|         45to54|          Male|\n",
      "|   432219105|      3424|               221.0|               12783|                   0|             648.32|                      7.36|              756684|         796|        0.23|           5137.16|greater_than_65|          Male|\n",
      "|   432219237|      2761|               433.2|                6122|                   0|              784.9|                      2.87|             1195968|        1757|        0.64|           1195.29|greater_than_65|          Male|\n",
      "|   432219578|       273|              1369.0|               11878|                   0|            1672.36|                      2.46|              373742|         258|        0.95|            926.74|         25to34|        Female|\n",
      "|   432220484|       963|               635.5|               11192|                   0|            1147.55|                       3.4|              611995|         882|        0.92|           1072.69|greater_than_65|Please Specify|\n",
      "|   432220899|      1027|               419.7|               12782|                   0|             1031.7|                      5.67|              430996|         443|        0.43|            816.94|         45to54|        Female|\n",
      "|   432221193|      1480|               621.7|                9161|                   0|            1079.41|                       2.9|              920127|        1475|         1.0|            997.97|greater_than_65|Please Specify|\n",
      "|   432221625|       706|               513.8|               12773|                   0|            1096.04|                      5.15|              362765|         401|        0.57|           1624.65|greater_than_65|Please Specify|\n",
      "|   432222165|      2611|               331.9|                5748|                   0|             607.89|                      3.33|              866485|        2526|        0.97|            943.32|greater_than_65|Please Specify|\n",
      "|   432222387|      1467|               322.2|                8929|                   0|             681.54|                      4.66|              472674|         445|         0.3|           5615.54|         35to44|        Female|\n",
      "|   432224883|      1469|               656.4|               10244|                   0|             951.15|                      3.35|              964298|        1332|        0.91|           1180.39|         35to44|Please Specify|\n",
      "|   432225165|      3727|               302.0|               13048|                   0|             706.57|                      6.02|             1125494|        1387|        0.37|           2846.31|greater_than_65|        Female|\n",
      "|   432225320|       319|               587.0|                5989|                   0|             915.84|                      2.18|              187250|         261|        0.82|            893.42|greater_than_65|Please Specify|\n",
      "|   432225890|      1762|               462.9|               12421|                   0|             922.34|                      4.26|              815662|        1751|        0.99|            994.89|greater_than_65|Please Specify|\n",
      "|   432226796|      1509|               278.0|               10831|                   0|              865.0|                      6.76|              419475|         307|         0.2|            1055.0|greater_than_65|        Female|\n",
      "+------------+----------+--------------------+--------------------+--------------------+-------------------+--------------------------+--------------------+------------+------------+------------------+---------------+--------------+\n",
      "only showing top 20 rows\n",
      "\n"
     ]
    }
   ],
   "source": [
    "sessions_grouping.show()"
   ]
  },
  {
   "cell_type": "code",
   "execution_count": 15,
   "metadata": {
    "collapsed": false
   },
   "outputs": [],
   "source": [
    "channels_per_household = (sessions\n",
    "                          .select('household_id', 'channel_name')\n",
    "                          #.where(~ F.col(\"channel_name\").like(\"%unknown%\"))\n",
    "                         .groupBy(['household_id','channel_name'])\n",
    "                         .agg(F.count('channel_name').alias('channel_counts'))\n",
    "                         .orderBy(['household_id','channel_counts'],ascending=[0,0]))"
   ]
  },
  {
   "cell_type": "code",
   "execution_count": 16,
   "metadata": {
    "collapsed": false
   },
   "outputs": [
    {
     "name": "stdout",
     "output_type": "stream",
     "text": [
      "+------------+--------------+--------------+\n",
      "|household_id|  channel_name|channel_counts|\n",
      "+------------+--------------+--------------+\n",
      "|   432229515|          Surf|           240|\n",
      "|   432229515|       RTE2 HD|           177|\n",
      "|   432229515|     Channel 4|           171|\n",
      "|   432229515|       BBC1 HD|           144|\n",
      "|   432229515|         BBC 2|           108|\n",
      "|   432229515|        FOX HD|            99|\n",
      "|   432229515|            E4|            66|\n",
      "|   432229515|    RTE One HD|            50|\n",
      "|   432229515|            E!|            45|\n",
      "|   432229515|UTV Ireland HD|            44|\n",
      "+------------+--------------+--------------+\n",
      "only showing top 10 rows\n",
      "\n"
     ]
    }
   ],
   "source": [
    "channels_per_household.show(10)"
   ]
  },
  {
   "cell_type": "code",
   "execution_count": 17,
   "metadata": {
    "collapsed": false
   },
   "outputs": [],
   "source": [
    "#Top 5 channels by time spend for each family\n",
    "from pyspark.sql.window import Window\n",
    "from pyspark.sql.functions import concat_ws, lit\n",
    "\n",
    "\n",
    "windowSpec = Window.partitionBy(channels_per_household['household_id']).orderBy(channels_per_household['channel_counts'].desc())\n",
    "converted_channels = (channels_per_household\n",
    "    .select('household_id', 'channel_name', 'channel_counts', F.dense_rank().over(windowSpec).alias('dense_rank'))\n",
    "    .filter(F.col('dense_rank') <= 5)\n",
    "    .orderBy('household_id', 'dense_rank'))"
   ]
  },
  {
   "cell_type": "code",
   "execution_count": 18,
   "metadata": {
    "collapsed": false
   },
   "outputs": [],
   "source": [
    "converted_channels_appended = converted_channels.withColumn(\"dummy\", lit(\"channel\"))\\\n",
    "                              .withColumn(\"channel_rank\", concat_ws(\"-\",\"dummy\",\"dense_rank\"))\n",
    "                                 \n"
   ]
  },
  {
   "cell_type": "code",
   "execution_count": 19,
   "metadata": {
    "collapsed": false
   },
   "outputs": [
    {
     "name": "stdout",
     "output_type": "stream",
     "text": [
      "+------------+--------------+--------------+----------+-------+------------+\n",
      "|household_id|  channel_name|channel_counts|dense_rank|  dummy|channel_rank|\n",
      "+------------+--------------+--------------+----------+-------+------------+\n",
      "|   432214532|    RTE One HD|           304|         1|channel|   channel-1|\n",
      "|   432214532|          Surf|            59|         2|channel|   channel-2|\n",
      "|   432214532|            3e|            37|         3|channel|   channel-3|\n",
      "|   432214532|        TV3 HD|            35|         4|channel|   channel-4|\n",
      "|   432214532|UTV Ireland HD|            32|         5|channel|   channel-5|\n",
      "+------------+--------------+--------------+----------+-------+------------+\n",
      "only showing top 5 rows\n",
      "\n"
     ]
    }
   ],
   "source": [
    "converted_channels_appended.show(5)"
   ]
  },
  {
   "cell_type": "code",
   "execution_count": 20,
   "metadata": {
    "collapsed": false
   },
   "outputs": [
    {
     "name": "stdout",
     "output_type": "stream",
     "text": [
      "+------------+--------------+--------------+----------+\n",
      "|household_id|  channel_name|channel_counts|dense_rank|\n",
      "+------------+--------------+--------------+----------+\n",
      "|   432219578|            E!|            67|         1|\n",
      "|   432219578|          ITV2|            23|         2|\n",
      "|   432219578|           TLC|            20|         3|\n",
      "|   432219578|UTV Ireland HD|            19|         4|\n",
      "|   432219578|       RTE2 HD|            16|         5|\n",
      "+------------+--------------+--------------+----------+\n",
      "\n"
     ]
    }
   ],
   "source": [
    "converted_channels.where(F.col('household_id') == 432219578).show()"
   ]
  },
  {
   "cell_type": "code",
   "execution_count": 21,
   "metadata": {
    "collapsed": false
   },
   "outputs": [],
   "source": [
    "\n",
    "channels_pivot = converted_channels_appended.groupBy(\"household_id\")\\\n",
    "                           .pivot(\"channel_rank\")\\\n",
    "                           .agg(expr(\"coalesce(first(channel_name),5)\"))\n",
    "                           \n",
    "        \n",
    "       "
   ]
  },
  {
   "cell_type": "code",
   "execution_count": 22,
   "metadata": {
    "collapsed": false
   },
   "outputs": [
    {
     "name": "stdout",
     "output_type": "stream",
     "text": [
      "+------------+-----------+--------------+----------+---------+----------+\n",
      "|household_id|  channel-1|     channel-2| channel-3|channel-4| channel-5|\n",
      "+------------+-----------+--------------+----------+---------+----------+\n",
      "|   432214580|      BBC 2|  Nat Geo Wild|RTE One HD|     Surf|   BBC1 HD|\n",
      "|   432215859|       Surf|    RTE One HD|    TV3 HD|    BBC 2|    TG4 HD|\n",
      "|   432216992|       Dave|         BBC 2|        E4| BBC FOUR|BBC TWO HD|\n",
      "|   432217982|       Surf|UTV Ireland HD| Channel 4|  BBC1 HD|    TV3 HD|\n",
      "|   432218817|Nick Junior|          Surf|    TV3 HD|  RTE2 HD|RTE One HD|\n",
      "+------------+-----------+--------------+----------+---------+----------+\n",
      "only showing top 5 rows\n",
      "\n"
     ]
    }
   ],
   "source": [
    "channels_pivot.show(5)"
   ]
  },
  {
   "cell_type": "code",
   "execution_count": 23,
   "metadata": {
    "collapsed": false
   },
   "outputs": [],
   "source": [
    "genre_per_household = (sessions\n",
    "                          .select('household_id', 'genre')\n",
    "                          #.where(~ F.col(\"channel_name\").like(\"%unknown%\"))\n",
    "                         .groupBy(['household_id','genre'])\n",
    "                         .agg(F.count('genre').alias('genre_counts'))\n",
    "                         .orderBy(['household_id','genre_counts'],ascending=[0,0]))\n",
    "\n"
   ]
  },
  {
   "cell_type": "code",
   "execution_count": 24,
   "metadata": {
    "collapsed": false
   },
   "outputs": [],
   "source": [
    "windowSpec = Window.partitionBy(genre_per_household['household_id']).orderBy(genre_per_household['genre_counts'].desc())\n",
    "converted_genre = (genre_per_household\n",
    "    .select('household_id', 'genre', 'genre_counts', F.dense_rank().over(windowSpec).alias('dense_rank'))\n",
    "    .filter(F.col('dense_rank') <= 5)\n",
    "    .orderBy('household_id', 'dense_rank'))"
   ]
  },
  {
   "cell_type": "code",
   "execution_count": 25,
   "metadata": {
    "collapsed": true
   },
   "outputs": [],
   "source": [
    "converted_genre_appended = converted_genre.withColumn(\"dummy\", lit(\"genre\"))\\\n",
    "                              .withColumn(\"genre_rank\", concat_ws(\"-\",\"dummy\",\"dense_rank\"))\n",
    "  "
   ]
  },
  {
   "cell_type": "code",
   "execution_count": 26,
   "metadata": {
    "collapsed": false
   },
   "outputs": [],
   "source": [
    "\n",
    "genre_pivot = converted_genre_appended.groupBy(\"household_id\")\\\n",
    "                           .pivot(\"genre_rank\")\\\n",
    "                           .agg(expr(\"coalesce(first(genre),5)\"))"
   ]
  },
  {
   "cell_type": "code",
   "execution_count": 27,
   "metadata": {
    "collapsed": false
   },
   "outputs": [
    {
     "name": "stdout",
     "output_type": "stream",
     "text": [
      "+------------+--------------+--------------+-------+----------------+------------+\n",
      "|household_id|       genre-1|       genre-2|genre-3|         genre-4|     genre-5|\n",
      "+------------+--------------+--------------+-------+----------------+------------+\n",
      "|   432214580|          News|  Unclassified|Leisure|Social/Political|       Sport|\n",
      "|   432215859|  Unclassified|          News|  Drama|  Show/Game Show|       Sport|\n",
      "|   432216992|Show/Game Show|         Drama|   News|         Leisure|Unclassified|\n",
      "|   432217982|  Unclassified|Show/Game Show|   News|           Drama|  Kids/Youth|\n",
      "|   432218817|  Unclassified|    Kids/Youth|  Sport|           Movie|       Drama|\n",
      "+------------+--------------+--------------+-------+----------------+------------+\n",
      "only showing top 5 rows\n",
      "\n"
     ]
    }
   ],
   "source": [
    "genre_pivot.show(5)"
   ]
  },
  {
   "cell_type": "code",
   "execution_count": 28,
   "metadata": {
    "collapsed": false
   },
   "outputs": [
    {
     "name": "stdout",
     "output_type": "stream",
     "text": [
      "+------------+------------+-------------+-----------+------------+-------------+\n",
      "|household_id| sub_genre-1|  sub_genre-2|sub_genre-3| sub_genre-4|  sub_genre-5|\n",
      "+------------+------------+-------------+-----------+------------+-------------+\n",
      "|   432214580|      Nature|    Undefined|Documentary|Unclassified|    Melodrama|\n",
      "|   432215859|Unclassified|    Undefined|Documentary|Variety Show|    Talk Show|\n",
      "|   432216992|   Undefined|       Comedy|Documentary|    Motoring| Unclassified|\n",
      "|   432217982|Unclassified|    Undefined|Documentary|Variety Show|For ages 6-14|\n",
      "|   432218817|Unclassified|For ages 6-14|   Football|   Undefined|       Comedy|\n",
      "+------------+------------+-------------+-----------+------------+-------------+\n",
      "only showing top 5 rows\n",
      "\n"
     ]
    }
   ],
   "source": [
    "sub_genre_per_household = (sessions\n",
    "                          .select('household_id', 'sub_genre')\n",
    "                          #.where(~ F.col(\"channel_name\").like(\"%unknown%\"))\n",
    "                         .groupBy(['household_id','sub_genre'])\n",
    "                         .agg(F.count('sub_genre').alias('sub_genre_counts'))\n",
    "                         .orderBy(['household_id','sub_genre_counts'],ascending=[0,0]))\n",
    "\n",
    "windowSpec = Window.partitionBy(sub_genre_per_household['household_id']).orderBy(sub_genre_per_household['sub_genre_counts'].desc())\n",
    "converted_sub_genre = (sub_genre_per_household\n",
    "    .select('household_id', 'sub_genre', 'sub_genre_counts', F.dense_rank().over(windowSpec).alias('dense_rank'))\n",
    "    .filter(F.col('dense_rank') <= 5)\n",
    "    .orderBy('household_id', 'dense_rank'))\n",
    "converted_sub_genre_appended = converted_sub_genre.withColumn(\"dummy\", lit(\"sub_genre\"))\\\n",
    "                              .withColumn(\"sub_genre_rank\", concat_ws(\"-\",\"dummy\",\"dense_rank\"))\n",
    "\n",
    "sub_genre_pivot = converted_sub_genre_appended.groupBy(\"household_id\")\\\n",
    "                           .pivot(\"sub_genre_rank\")\\\n",
    "                           .agg(expr(\"coalesce(first(sub_genre),5)\"))\n",
    "sub_genre_pivot.show(5)        \n",
    "        "
   ]
  },
  {
   "cell_type": "code",
   "execution_count": 29,
   "metadata": {
    "collapsed": false
   },
   "outputs": [
    {
     "name": "stdout",
     "output_type": "stream",
     "text": [
      "+------------+------+------+------+------+------+\n",
      "|household_id|hour-1|hour-2|hour-3|hour-4|hour-5|\n",
      "+------------+------+------+------+------+------+\n",
      "|   432220484|    21|    22|    20|    19|    17|\n",
      "|   432225320|    21|    22|    20|    18|    19|\n",
      "|   432219237|    22|    19|    16|    23|    20|\n",
      "|   432219578|    21|    20|    22|    19|    17|\n",
      "|   432217982|    21|    22|    23|    19|     0|\n",
      "+------------+------+------+------+------+------+\n",
      "only showing top 5 rows\n",
      "\n"
     ]
    }
   ],
   "source": [
    "hour_per_household = (sessions\n",
    "                          .select('household_id', 'hour')\n",
    "                          #.where(~ F.col(\"channel_name\").like(\"%unknown%\"))\n",
    "                         .groupBy(['household_id','hour'])\n",
    "                         .agg(F.count('hour').alias('hour_counts'))\n",
    "                         .orderBy(['household_id','hour_counts'],ascending=[0,0]))\n",
    "\n",
    "windowSpec = Window.partitionBy(hour_per_household['household_id']).orderBy(hour_per_household['hour_counts'].desc())\n",
    "converted_hour = (hour_per_household\n",
    "    .select('household_id', 'hour', 'hour_counts', F.dense_rank().over(windowSpec).alias('dense_rank'))\n",
    "    .filter(F.col('dense_rank') <= 5)\n",
    "    .orderBy('household_id', 'dense_rank'))\n",
    "converted_hour_appended = converted_hour.withColumn(\"dummy\", lit(\"hour\"))\\\n",
    "                              .withColumn(\"hour_rank\", concat_ws(\"-\",\"dummy\",\"dense_rank\"))\n",
    "\n",
    "hour_pivot = converted_hour_appended.groupBy(\"household_id\")\\\n",
    "                           .pivot(\"hour_rank\")\\\n",
    "                           .agg(expr(\"coalesce(first(hour),5)\"))\n",
    "hour_pivot.show(5)        \n",
    "        "
   ]
  },
  {
   "cell_type": "code",
   "execution_count": 30,
   "metadata": {
    "collapsed": false
   },
   "outputs": [
    {
     "name": "stdout",
     "output_type": "stream",
     "text": [
      "+------------+---------+--------+--------+--------+---------+\n",
      "|household_id|    dow-1|   dow-2|   dow-3|   dow-4|    dow-5|\n",
      "+------------+---------+--------+--------+--------+---------+\n",
      "|   432214580|Wednesday|Thursday|  Friday| Tuesday| Saturday|\n",
      "|   432215859|   Sunday|Saturday| Tuesday|Thursday|   Friday|\n",
      "|   432216992|   Sunday| Tuesday|Saturday|  Friday|   Monday|\n",
      "|   432217982|   Sunday|Saturday|Thursday|  Friday|   Monday|\n",
      "|   432218817|   Sunday|  Monday|  Friday|Saturday|Wednesday|\n",
      "+------------+---------+--------+--------+--------+---------+\n",
      "only showing top 5 rows\n",
      "\n"
     ]
    }
   ],
   "source": [
    "dow_per_household = (sessions\n",
    "                          .select('household_id', 'day_of_week')\n",
    "                          #.where(~ F.col(\"channel_name\").like(\"%unknown%\"))\n",
    "                         .groupBy(['household_id','day_of_week'])\n",
    "                         .agg(F.count('day_of_week').alias('day_of_week_counts'))\n",
    "                         .orderBy(['household_id','day_of_week_counts'],ascending=[0,0]))\n",
    "\n",
    "windowSpec = Window.partitionBy(dow_per_household['household_id']).orderBy(dow_per_household['day_of_week_counts'].desc())\n",
    "converted_dow = (dow_per_household\n",
    "    .select('household_id', 'day_of_week', 'day_of_week_counts', F.dense_rank().over(windowSpec).alias('dense_rank'))\n",
    "    .filter(F.col('dense_rank') <= 5)\n",
    "    .orderBy('household_id', 'dense_rank'))\n",
    "\n",
    "converted_dow_appended = converted_dow.withColumn(\"dummy\", lit(\"dow\"))\\\n",
    "                              .withColumn(\"dow_rank\", concat_ws(\"-\",\"dummy\",\"dense_rank\"))\n",
    "\n",
    "dow_pivot = converted_dow_appended.groupBy(\"household_id\")\\\n",
    "                           .pivot(\"dow_rank\")\\\n",
    "                           .agg(expr(\"coalesce(first(day_of_week),5)\"))\n",
    "dow_pivot.show(5)        \n",
    "        "
   ]
  },
  {
   "cell_type": "code",
   "execution_count": 31,
   "metadata": {
    "collapsed": false
   },
   "outputs": [
    {
     "name": "stdout",
     "output_type": "stream",
     "text": [
      "+------------+---------+---------+\n",
      "|household_id|     st-1|     st-2|\n",
      "+------------+---------+---------+\n",
      "|   432214580|     LIVE|TIMESHIFT|\n",
      "|   432215859|     LIVE|TIMESHIFT|\n",
      "|   432216992|TIMESHIFT|     LIVE|\n",
      "|   432217982|     LIVE|TIMESHIFT|\n",
      "|   432218817|     LIVE|TIMESHIFT|\n",
      "+------------+---------+---------+\n",
      "only showing top 5 rows\n",
      "\n"
     ]
    }
   ],
   "source": [
    "st_per_household = (sessions\n",
    "                          .select('household_id', 'session_type')\n",
    "                          #.where(~ F.col(\"channel_name\").like(\"%unknown%\"))\n",
    "                         .groupBy(['household_id','session_type'])\n",
    "                         .agg(F.count('session_type').alias('session_type_counts'))\n",
    "                         .orderBy(['household_id','session_type_counts'],ascending=[0,0]))\n",
    "\n",
    "windowSpec = Window.partitionBy(st_per_household['household_id']).orderBy(st_per_household['session_type_counts'].desc())\n",
    "converted_st = (st_per_household\n",
    "    .select('household_id', 'session_type', 'session_type_counts', F.dense_rank().over(windowSpec).alias('dense_rank'))\n",
    "    .filter(F.col('dense_rank') <= 2)\n",
    "    .orderBy('household_id', 'dense_rank'))\n",
    "\n",
    "converted_st_appended = converted_st.withColumn(\"dummy\", lit(\"st\"))\\\n",
    "                              .withColumn(\"st_rank\", concat_ws(\"-\",\"dummy\",\"dense_rank\"))\n",
    "\n",
    "st_pivot = converted_st_appended.groupBy(\"household_id\")\\\n",
    "                           .pivot(\"st_rank\")\\\n",
    "                           .agg(expr(\"coalesce(first(session_type),5)\"))\n",
    "st_pivot.show(5)   "
   ]
  },
  {
   "cell_type": "code",
   "execution_count": 32,
   "metadata": {
    "collapsed": false
   },
   "outputs": [
    {
     "name": "stdout",
     "output_type": "stream",
     "text": [
      "+------------+-------------------+-------------------+----------------+\n",
      "|household_id|              sst-1|              sst-2|           sst-3|\n",
      "+------------+-------------------+-------------------+----------------+\n",
      "|   432214580|               LIVE|             BUFFER|               5|\n",
      "|   432215859|               LIVE|             BUFFER|               5|\n",
      "|   432216992|SERIES LINK BOOKING|             BUFFER|SINGLE RECORDING|\n",
      "|   432217982|               LIVE|SERIES LINK BOOKING|          BUFFER|\n",
      "|   432218817|               LIVE|             BUFFER|SINGLE RECORDING|\n",
      "+------------+-------------------+-------------------+----------------+\n",
      "only showing top 5 rows\n",
      "\n"
     ]
    }
   ],
   "source": [
    "sst_per_household = (sessions\n",
    "                          .select('household_id', 'session_sub_type')\n",
    "                          #.where(~ F.col(\"channel_name\").like(\"%unknown%\"))\n",
    "                         .groupBy(['household_id','session_sub_type'])\n",
    "                         .agg(F.count('session_sub_type').alias('session_sub_type_counts'))\n",
    "                         .orderBy(['household_id','session_sub_type_counts'],ascending=[0,0]))\n",
    "\n",
    "windowSpec = Window.partitionBy(sst_per_household['household_id']).orderBy(sst_per_household['session_sub_type_counts'].desc())\n",
    "converted_sst = (sst_per_household\n",
    "    .select('household_id', 'session_sub_type', 'session_sub_type_counts', F.dense_rank().over(windowSpec).alias('dense_rank'))\n",
    "    .filter(F.col('dense_rank') <= 3)\n",
    "    .orderBy('household_id', 'dense_rank'))\n",
    "\n",
    "converted_sst_appended = converted_sst.withColumn(\"dummy\", lit(\"sst\"))\\\n",
    "                              .withColumn(\"sst_rank\", concat_ws(\"-\",\"dummy\",\"dense_rank\"))\n",
    "\n",
    "sst_pivot = converted_sst_appended.groupBy(\"household_id\")\\\n",
    "                           .pivot(\"sst_rank\")\\\n",
    "                           .agg(expr(\"coalesce(first(session_sub_type),5)\"))\n",
    "sst_pivot.show(5) "
   ]
  },
  {
   "cell_type": "code",
   "execution_count": 33,
   "metadata": {
    "collapsed": false
   },
   "outputs": [],
   "source": [
    "sessions_final = sessions_grouping.join(channels_pivot, sessions_grouping.household_id == channels_pivot.household_id,'inner' ).drop(sessions_grouping.household_id)\\\n",
    ".join(genre_pivot, 'household_id','inner')\\\n",
    ".drop(channels_pivot.household_id)\\\n",
    ".join(sub_genre_pivot, 'household_id','inner')\\\n",
    ".drop(genre_pivot.household_id)\\\n",
    ".join(hour_pivot, 'household_id','inner')\\\n",
    ".drop(sub_genre_pivot.household_id)\\\n",
    ".join(dow_pivot, 'household_id','inner')\\\n",
    ".drop(hour_pivot.household_id)\\\n",
    ".join(st_pivot, 'household_id','inner')\\\n",
    ".drop(dow_pivot.household_id)\\\n",
    ".join(sst_pivot, 'household_id','inner')\\\n",
    ".drop(st_pivot.household_id)\n"
   ]
  },
  {
   "cell_type": "code",
   "execution_count": 34,
   "metadata": {
    "collapsed": false
   },
   "outputs": [
    {
     "name": "stdout",
     "output_type": "stream",
     "text": [
      "+------------+----------+--------------------+--------------------+--------------------+-------------------+--------------------------+--------------------+------------+------------+------------------+---------------+--------------+---------------+------------------+------------------+--------------+---------------+--------------+--------------+--------------+----------------+--------------+-------------+-------------+------------+------------+-------------+------+------+------+------+------+---------+---------+--------+---------+---------+---------+---------+-------------------+-------------------+----------------+\n",
      "|household_id|max_hit_nr|avg_session_duration|max_session_duration|min_session_duration|sd_session_duration|skewnews_ssession_duration|sum_session_duration|sum_overlaps|avg_overlaps|avg_playback_speed|       age_band|        gender|      channel-1|         channel-2|         channel-3|     channel-4|      channel-5|       genre-1|       genre-2|       genre-3|         genre-4|       genre-5|  sub_genre-1|  sub_genre-2| sub_genre-3| sub_genre-4|  sub_genre-5|hour-1|hour-2|hour-3|hour-4|hour-5|    dow-1|    dow-2|   dow-3|    dow-4|    dow-5|     st-1|     st-2|              sst-1|              sst-2|           sst-3|\n",
      "+------------+----------+--------------------+--------------------+--------------------+-------------------+--------------------------+--------------------+------------+------------+------------------+---------------+--------------+---------------+------------------+------------------+--------------+---------------+--------------+--------------+--------------+----------------+--------------+-------------+-------------+------------+------------+-------------+------+------+------+------+------+---------+---------+--------+---------+---------+---------+---------+-------------------+-------------------+----------------+\n",
      "|   432214580|        51|               914.9|                3900|                   0|            1301.22|                      1.19|               46659|          46|         0.9|            980.39|greater_than_65|Please Specify|          BBC 2|      Nat Geo Wild|        RTE One HD|          Surf|        BBC1 HD|          News|  Unclassified|       Leisure|Social/Political|         Sport|       Nature|    Undefined| Documentary|Unclassified|    Melodrama|    19|    21|    14|    22|    13|Wednesday| Thursday|  Friday|  Tuesday| Saturday|     LIVE|TIMESHIFT|               LIVE|             BUFFER|               5|\n",
      "|   432215859|       644|               863.0|                9593|                   0|            1396.14|                      2.56|              555748|         643|         1.0|            1000.0|greater_than_65|Please Specify|           Surf|        RTE One HD|            TV3 HD|         BBC 2|         TG4 HD|  Unclassified|          News|         Drama|  Show/Game Show|         Sport| Unclassified|    Undefined| Documentary|Variety Show|    Talk Show|    21|    20|    19|    22|    15|   Sunday| Saturday| Tuesday| Thursday|   Friday|     LIVE|TIMESHIFT|               LIVE|             BUFFER|               5|\n",
      "|   432216992|      2084|               374.6|               12783|                   0|            1085.32|                      6.68|              780651|         202|         0.1|            912.67|greater_than_65|        Female|           Dave|             BBC 2|                E4|      BBC FOUR|     BBC TWO HD|Show/Game Show|         Drama|          News|         Leisure|  Unclassified|    Undefined|       Comedy| Documentary|    Motoring| Unclassified|    21|    22|    19|    20|    18|   Sunday|  Tuesday|Saturday|   Friday|   Monday|TIMESHIFT|     LIVE|SERIES LINK BOOKING|             BUFFER|SINGLE RECORDING|\n",
      "|   432217982|      1308|               607.8|                8160|                   0|            1083.28|                      3.02|              794987|        1086|        0.83|            1857.8|greater_than_65|Please Specify|           Surf|    UTV Ireland HD|         Channel 4|       BBC1 HD|         TV3 HD|  Unclassified|Show/Game Show|          News|           Drama|    Kids/Youth| Unclassified|    Undefined| Documentary|Variety Show|For ages 6-14|    21|    22|    23|    19|     0|   Sunday| Saturday|Thursday|   Friday|   Monday|     LIVE|TIMESHIFT|               LIVE|SERIES LINK BOOKING|          BUFFER|\n",
      "|   432218817|      1783|               512.2|               12782|                   0|             992.84|                      4.63|              913189|         911|        0.51|           2659.84|greater_than_65|        Female|    Nick Junior|              Surf|            TV3 HD|       RTE2 HD|     RTE One HD|  Unclassified|    Kids/Youth|         Sport|           Movie|         Drama| Unclassified|For ages 6-14|    Football|   Undefined|       Comedy|    22|    23|    21|     0|    20|   Sunday|   Monday|  Friday| Saturday|Wednesday|     LIVE|TIMESHIFT|               LIVE|             BUFFER|SINGLE RECORDING|\n",
      "|   432219050|        17|              1269.5|                4228|                   0|            1637.48|                      0.73|               21581|          17|         1.0|            1000.0|         45to54|          Male|Disc Channel +1| Discovery History|              Surf|             5|              5|          News|       Leisure|Show/Game Show|               5|             5|  Documentary| Unclassified|   Undefined|           5|            5|    21|    20|    19|    12|  null|Wednesday|   Friday|       5|        5|        5|     LIVE|        5|               LIVE|                  5|               5|\n",
      "|   432219105|      3424|               221.0|               12783|                   0|             648.32|                      7.36|              756684|         796|        0.23|           5137.16|greater_than_65|          Male|     Real Lives|        RTE One HD|              ITV2|          Surf|          More4|Show/Game Show|          News|  Unclassified|           Drama|         Sport| Variety Show|    Undefined|Unclassified|   Talk Show|  Documentary|    15|    22|    23|    21|    16|   Monday|   Friday| Tuesday|   Sunday| Saturday|TIMESHIFT|     LIVE|SERIES LINK BOOKING|               LIVE|          BUFFER|\n",
      "|   432219237|      2761|               433.2|                6122|                   0|              784.9|                      2.87|             1195968|        1757|        0.64|           1195.29|greater_than_65|          Male|            TLC|             More4|              Surf|      BBC FOUR|           Dave|Show/Game Show|          News|       Leisure|    Unclassified|         Drama|    Undefined|  Documentary|   Lifestyle|Unclassified| Variety Show|    22|    19|    16|    23|    20|  Tuesday| Saturday|  Monday|Wednesday|   Sunday|     LIVE|TIMESHIFT|               LIVE|             BUFFER|SINGLE RECORDING|\n",
      "|   432219578|       273|              1369.0|               11878|                   0|            1672.36|                      2.46|              373742|         258|        0.95|            926.74|         25to34|        Female|             E!|              ITV2|               TLC|UTV Ireland HD|        RTE2 HD|Show/Game Show|         Drama|          News|         Leisure|  Unclassified|    Undefined| Variety Show|     Factual|      Comedy|  Documentary|    21|    20|    22|    19|    17| Thursday| Saturday| Tuesday|Wednesday|   Sunday|     LIVE|TIMESHIFT|               LIVE|             BUFFER|               5|\n",
      "|   432220484|       963|               635.5|               11192|                   0|            1147.55|                       3.4|              611995|         882|        0.92|           1072.69|greater_than_65|Please Specify|           Surf|        RTE One HD|           BBC1 HD|UTV Ireland HD|          BBC 2|  Unclassified|          News|         Sport|  Show/Game Show|         Drama| Unclassified|    Undefined| Documentary|Variety Show|     Football|    21|    22|    20|    19|    17| Saturday|   Sunday|  Monday|Wednesday| Thursday|     LIVE|TIMESHIFT|               LIVE|   SINGLE RECORDING|          BUFFER|\n",
      "|   432220899|      1027|               419.7|               12782|                   0|             1031.7|                      5.67|              430996|         443|        0.43|            816.94|         45to54|        Female|      Comedy +1|              Surf|            Comedy|   Nick Replay| Discovery Shed|         Drama|         Movie|  Unclassified|  Show/Game Show|          News|       Comedy| Unclassified|       Crime|   Undefined|  Documentary|    21|    22|    20|    19|    18|   Sunday|   Monday|  Friday|Wednesday| Saturday|TIMESHIFT|     LIVE|               LIVE|             BUFFER|SINGLE RECORDING|\n",
      "|   432221193|      1480|               621.7|                9161|                   0|            1079.41|                       2.9|              920127|        1475|         1.0|            997.97|greater_than_65|Please Specify|           Surf|        RTE One HD|            TV3 HD|UTV Ireland HD|             3e|  Unclassified|          News|Show/Game Show|           Sport|         Drama| Unclassified|    Undefined|    Football|Variety Show|    Melodrama|    22|    19|    20|    21|    17| Thursday|   Monday| Tuesday|Wednesday| Saturday|     LIVE|TIMESHIFT|               LIVE|             BUFFER|               5|\n",
      "|   432221625|       706|               513.8|               12773|                   0|            1096.04|                      5.15|              362765|         401|        0.57|           1624.65|greater_than_65|Please Specify|     RTE One HD|          G.O.L.D.|              Surf|        TG4 HD|Setanta Ireland|         Drama|         Sport|          News|    Unclassified|Show/Game Show|    Undefined|       Comedy|Unclassified|   Melodrama|     Football|    18|    19|    17|    20|    14| Saturday|   Sunday|  Monday|   Friday| Thursday|     LIVE|TIMESHIFT|               LIVE|             BUFFER|            SVOD|\n",
      "|   432222165|      2611|               331.9|                5748|                   0|             607.89|                      3.33|              866485|        2526|        0.97|            943.32|greater_than_65|Please Specify|           Surf|    UTV Ireland HD|Sky Sports News HQ|        TV3 HD|        RTE2 HD|  Unclassified|Show/Game Show|         Drama|           Sport|          News| Unclassified|    Undefined|   Melodrama|Variety Show|  Documentary|    22|    21|    17|    18|    20|   Sunday| Saturday|Thursday|Wednesday|  Tuesday|     LIVE|TIMESHIFT|               LIVE|             BUFFER|          REPLAY|\n",
      "|   432222387|      1467|               322.2|                8929|                   0|             681.54|                      4.66|              472674|         445|         0.3|           5615.54|         35to44|        Female|     History HD|              Dave|        RTE One HD|        TV3 HD|        RTE2 HD|Show/Game Show|         Drama|          News|    Unclassified|    Kids/Youth|    Undefined|    Melodrama|Unclassified|      Comedy|        Crime|    18|    17|    19|    20|    22| Saturday|Wednesday|  Friday| Thursday|  Tuesday|TIMESHIFT|     LIVE|SERIES LINK BOOKING|               LIVE|SINGLE RECORDING|\n",
      "|   432224883|      1469|               656.4|               10244|                   0|             951.15|                      3.35|              964298|        1332|        0.91|           1180.39|         35to44|Please Specify|           Surf|       Nick Junior|        RTE One HD|      Cbeebies| UTV Ireland HD|    Kids/Youth|  Unclassified|         Drama|     Music/Dance|          News|For ages 6-14| Unclassified|  Pre-School|   Melodrama|    Undefined|    20|    19|    16|    21|    18| Saturday|   Friday|  Sunday|   Monday|  Tuesday|     LIVE|TIMESHIFT|               LIVE|             BUFFER|SINGLE RECORDING|\n",
      "|   432225165|      3727|               302.0|               13048|                   0|             706.57|                      6.02|             1125494|        1387|        0.37|           2846.31|greater_than_65|        Female| UTV Ireland HD|              Surf|        RTE One HD|      Lifetime|             ID|Show/Game Show|          News|         Drama|    Unclassified|         Sport|  Documentary| Unclassified|Variety Show|   Undefined|    Melodrama|    19|    21|    20|    18|    22|   Monday| Saturday|  Sunday|  Tuesday|Wednesday|TIMESHIFT|     LIVE|               LIVE|SERIES LINK BOOKING|          BUFFER|\n",
      "|   432225320|       319|               587.0|                5989|                   0|             915.84|                      2.18|              187250|         261|        0.82|            893.42|greater_than_65|Please Specify|           Surf|               TV3|           BBC1 HD|        TV3 HD|     RTE One HD|Show/Game Show|  Unclassified|          News|           Drama|         Movie|    Undefined| Unclassified|      Comedy| Documentary|    Talk Show|    21|    22|    20|    18|    19|   Friday| Saturday|  Sunday|  Tuesday|   Monday|     LIVE|      VOD|               LIVE|               SVOD|          BUFFER|\n",
      "|   432225890|      1762|               462.9|               12421|                   0|             922.34|                      4.26|              815662|        1751|        0.99|            994.89|greater_than_65|Please Specify|           Surf|Sky Sports News HQ|               TCM|  Sky Sports 4|     Sky Select|  Unclassified|         Movie|         Sport|           Drama|     Undefined| Unclassified|    Undefined|    Football|     Western|       Comedy|    15|    13|    14|    16|    17|   Sunday| Saturday|Thursday|Wednesday|   Monday|     LIVE|TIMESHIFT|               LIVE|             BUFFER|               5|\n",
      "|   432226796|      1509|               278.0|               10831|                   0|              865.0|                      6.76|              419475|         307|         0.2|            1055.0|greater_than_65|        Female|    Nick Replay|       Nickelodeon|              Surf|          CN+1|      Channel 4|    Kids/Youth|  Unclassified|         Movie|           Sport|         Drama|For ages 6-14| Unclassified|      Comedy|Variety Show|     Football|    17|    21|    20|    19|    16| Saturday|   Sunday|  Monday|  Tuesday|   Friday|TIMESHIFT|     LIVE|SERIES LINK BOOKING|   SINGLE RECORDING|            LIVE|\n",
      "+------------+----------+--------------------+--------------------+--------------------+-------------------+--------------------------+--------------------+------------+------------+------------------+---------------+--------------+---------------+------------------+------------------+--------------+---------------+--------------+--------------+--------------+----------------+--------------+-------------+-------------+------------+------------+-------------+------+------+------+------+------+---------+---------+--------+---------+---------+---------+---------+-------------------+-------------------+----------------+\n",
      "only showing top 20 rows\n",
      "\n"
     ]
    }
   ],
   "source": [
    "sessions_final.show()"
   ]
  },
  {
   "cell_type": "code",
   "execution_count": 35,
   "metadata": {
    "collapsed": false
   },
   "outputs": [
    {
     "name": "stdout",
     "output_type": "stream",
     "text": [
      "+---------------+\n",
      "|       age_band|\n",
      "+---------------+\n",
      "|greater_than_65|\n",
      "|   less_than_25|\n",
      "|         45to54|\n",
      "|         55to64|\n",
      "|         25to34|\n",
      "|         35to44|\n",
      "+---------------+\n",
      "\n"
     ]
    }
   ],
   "source": [
    "sessions_final.select('age_band').distinct().show()"
   ]
  },
  {
   "cell_type": "code",
   "execution_count": 36,
   "metadata": {
    "collapsed": false
   },
   "outputs": [],
   "source": [
    "sessions_final.coalesce(1).write.option(\"header\", \"true\").csv(\"sample_file.csv\")\n"
   ]
  }
 ],
 "metadata": {
  "kernelspec": {
   "display_name": "Python 2",
   "language": "python",
   "name": "python2"
  },
  "language_info": {
   "codemirror_mode": {
    "name": "ipython",
    "version": 2
   },
   "file_extension": ".py",
   "mimetype": "text/x-python",
   "name": "python",
   "nbconvert_exporter": "python",
   "pygments_lexer": "ipython2",
   "version": "2.7.6"
  }
 },
 "nbformat": 4,
 "nbformat_minor": 2
}
